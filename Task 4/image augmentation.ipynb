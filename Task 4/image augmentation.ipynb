{
 "cells": [
  {
   "cell_type": "code",
   "execution_count": 124,
   "id": "12e942d1",
   "metadata": {},
   "outputs": [],
   "source": [
    "import albumentations as A\n",
    "from PIL import Image\n",
    "import numpy as np\n",
    "import matplotlib.pyplot as plt\n",
    "import uuid\n",
    "from tqdm.notebook import tqdm"
   ]
  },
  {
   "cell_type": "code",
   "execution_count": 122,
   "id": "c66f2dee",
   "metadata": {},
   "outputs": [],
   "source": [
    "texture1 = Image.open('Task 4/Textures/1.jpg')\n",
    "texture2 = Image.open('Task 4/Textures/2.jpg')\n",
    "texture3 = Image.open('Task 4/Textures/3.jpg')"
   ]
  },
  {
   "cell_type": "code",
   "execution_count": 129,
   "id": "99add749",
   "metadata": {},
   "outputs": [
    {
     "data": {
      "application/vnd.jupyter.widget-view+json": {
       "model_id": "6a89b993b54040dbaa80a79adf5e4253",
       "version_major": 2,
       "version_minor": 0
      },
      "text/plain": [
       "  0%|          | 0/10 [00:00<?, ?it/s]"
      ]
     },
     "metadata": {},
     "output_type": "display_data"
    }
   ],
   "source": [
    "for i in tqdm(range(1, 11)):\n",
    "    img = Image.open(f'Task 4/Original/{i}.png')\n",
    "    transform = A.Compose([\n",
    "        A.augmentations.transforms.TemplateTransform(templates=[np.array(texture1.resize(img.size)), np.array(texture2.resize(img.size)), np.array(texture3.resize(img.size))], template_weight=0.1),\n",
    "        A.augmentations.transforms.Blur(),\n",
    "        A.augmentations.transforms.Downscale(scale_min=0.8, scale_max=0.9),\n",
    "        A.augmentations.transforms.GaussNoise(),\n",
    "        A.augmentations.transforms.RandomBrightnessContrast(),\n",
    "        A.augmentations.transforms.RandomSunFlare(num_flare_circles_lower=1, num_flare_circles_upper=5),\n",
    "        A.augmentations.transforms.Sharpen()\n",
    "    ])\n",
    "    for j in range(20):\n",
    "        Image.fromarray(transform(image=np.array(img))['image']).save(f'Task 4/Augmented/{uuid.uuid4()}.png')"
   ]
  },
  {
   "cell_type": "code",
   "execution_count": null,
   "id": "be9ff8c1",
   "metadata": {},
   "outputs": [],
   "source": []
  }
 ],
 "metadata": {
  "kernelspec": {
   "display_name": "Python 3 (ipykernel)",
   "language": "python",
   "name": "python3"
  },
  "language_info": {
   "codemirror_mode": {
    "name": "ipython",
    "version": 3
   },
   "file_extension": ".py",
   "mimetype": "text/x-python",
   "name": "python",
   "nbconvert_exporter": "python",
   "pygments_lexer": "ipython3",
   "version": "3.9.7"
  }
 },
 "nbformat": 4,
 "nbformat_minor": 5
}
